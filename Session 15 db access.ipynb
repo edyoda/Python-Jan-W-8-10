{
 "cells": [
  {
   "cell_type": "code",
   "execution_count": null,
   "metadata": {},
   "outputs": [],
   "source": [
    "Relational => SQLlite,mysql,oracle ,postgres\n",
    "Non realtional => MongoDb,Cassandra "
   ]
  },
  {
   "cell_type": "code",
   "execution_count": null,
   "metadata": {},
   "outputs": [],
   "source": [
    "DB API 2.0"
   ]
  },
  {
   "cell_type": "code",
   "execution_count": null,
   "metadata": {},
   "outputs": [],
   "source": [
    "conn = connect(hostname = \"\" , database = \"\" , username = \"\" , password=\"\")\n",
    "conn.close()"
   ]
  },
  {
   "cell_type": "code",
   "execution_count": null,
   "metadata": {},
   "outputs": [],
   "source": [
    "cur = conn.cursor()"
   ]
  },
  {
   "cell_type": "code",
   "execution_count": null,
   "metadata": {},
   "outputs": [],
   "source": [
    "cur.execute(\"\"\" SQL Query \"\"\")"
   ]
  },
  {
   "cell_type": "code",
   "execution_count": null,
   "metadata": {},
   "outputs": [],
   "source": [
    "pip install psycopg2"
   ]
  },
  {
   "cell_type": "code",
   "execution_count": null,
   "metadata": {},
   "outputs": [],
   "source": [
    "pip install cx_oracle"
   ]
  },
  {
   "cell_type": "code",
   "execution_count": 20,
   "metadata": {},
   "outputs": [],
   "source": [
    "import psycopg2"
   ]
  },
  {
   "cell_type": "code",
   "execution_count": 32,
   "metadata": {},
   "outputs": [],
   "source": [
    "conn = psycopg2.connect(host = \"localhost\" , user = \"\" , password = \"\", database = \"Emp\")"
   ]
  },
  {
   "cell_type": "code",
   "execution_count": 33,
   "metadata": {},
   "outputs": [],
   "source": [
    "cur =  conn.cursor()"
   ]
  },
  {
   "cell_type": "code",
   "execution_count": 34,
   "metadata": {},
   "outputs": [],
   "source": [
    "cur.execute(\"\"\"CREATE TABLE IF NOT EXISTS EMP1(ID INT PRIMARY KEY, NAME VARCHAR(32),EMAIL VARCHAR(32))\"\"\")"
   ]
  },
  {
   "cell_type": "code",
   "execution_count": 35,
   "metadata": {},
   "outputs": [],
   "source": [
    "cur.execute(\"\"\"INSERT INTO EMP1(ID,NAME,EMAIL) VALUES (101 , 'ABC' , 'ABC@XYZ.COM' )\"\"\")"
   ]
  },
  {
   "cell_type": "code",
   "execution_count": 37,
   "metadata": {},
   "outputs": [],
   "source": [
    "id = 102\n",
    "name = 'PQR'\n",
    "email = 'xyz@gmail.com'\n",
    "cur.execute(\"\"\"INSERT INTO EMP1(ID,NAME,EMAIL) VALUES (%s , %s , %s )\"\"\",(id,name,email))"
   ]
  },
  {
   "cell_type": "code",
   "execution_count": 41,
   "metadata": {},
   "outputs": [],
   "source": [
    "try:\n",
    "    cur.execute(\"\"\"INSERT INTO EMP1(ID,NAME,EMAIL) VALUES (%s , %s , %s )\"\"\",(id,name,email))\n",
    "except psycopg2.IntegrityError:\n",
    "    print(\"Id already exist\")\n",
    "except psycopg2.InternalError:\n",
    "    conn.rollback()"
   ]
  },
  {
   "cell_type": "code",
   "execution_count": 44,
   "metadata": {},
   "outputs": [
    {
     "name": "stdout",
     "output_type": "stream",
     "text": [
      "(101, 'ABC', 'ABC@XYZ.COM')\n",
      "(102, 'PQR', 'xyz@gmail.com')\n"
     ]
    }
   ],
   "source": [
    "cur.execute(\"\"\"SELECT * FROM EMP1\"\"\")\n",
    "print(next(cur))\n",
    "print(next(cur))"
   ]
  },
  {
   "cell_type": "code",
   "execution_count": 45,
   "metadata": {},
   "outputs": [
    {
     "name": "stdout",
     "output_type": "stream",
     "text": [
      "(101, 'ABC', 'ABC@XYZ.COM')\n",
      "(102, 'PQR', 'xyz@gmail.com')\n"
     ]
    }
   ],
   "source": [
    "cur.execute(\"\"\"SELECT * FROM EMP1\"\"\")\n",
    "for row in cur:\n",
    "    print(row)"
   ]
  },
  {
   "cell_type": "code",
   "execution_count": 46,
   "metadata": {},
   "outputs": [
    {
     "name": "stdout",
     "output_type": "stream",
     "text": [
      "(101, 'ABC', 'ABC@XYZ.COM')\n"
     ]
    }
   ],
   "source": [
    "cur.execute(\"\"\"SELECT * FROM EMP1\"\"\")\n",
    "print(cur.fetchone())"
   ]
  },
  {
   "cell_type": "code",
   "execution_count": 47,
   "metadata": {},
   "outputs": [
    {
     "name": "stdout",
     "output_type": "stream",
     "text": [
      "[(101, 'ABC', 'ABC@XYZ.COM'), (102, 'PQR', 'xyz@gmail.com')]\n"
     ]
    }
   ],
   "source": [
    "cur.execute(\"\"\"SELECT * FROM EMP1\"\"\")\n",
    "print(cur.fetchall())"
   ]
  },
  {
   "cell_type": "code",
   "execution_count": 48,
   "metadata": {},
   "outputs": [],
   "source": [
    "cur.execute(\"\"\" UPDATE EMP1 SET EMAIL = 'RST@GMAIL.COM' WHERE ID = 102\"\"\")\n",
    "conn.commit()"
   ]
  },
  {
   "cell_type": "code",
   "execution_count": 49,
   "metadata": {},
   "outputs": [
    {
     "name": "stdout",
     "output_type": "stream",
     "text": [
      "(102, 'PQR', 'RST@GMAIL.COM')\n"
     ]
    }
   ],
   "source": [
    "cur.execute(\"\"\"SELECT * FROM EMP1 WHERE ID  = 102 \"\"\")\n",
    "print(cur.fetchone())"
   ]
  },
  {
   "cell_type": "code",
   "execution_count": 50,
   "metadata": {},
   "outputs": [],
   "source": [
    "cur.execute(\"\"\"DELETE FROM EMP1 WHERE ID = 102 \"\"\")\n",
    "conn.commit()"
   ]
  },
  {
   "cell_type": "code",
   "execution_count": 52,
   "metadata": {},
   "outputs": [
    {
     "name": "stdout",
     "output_type": "stream",
     "text": [
      "[(101, 'ABC', 'ABC@XYZ.COM')]\n"
     ]
    }
   ],
   "source": [
    "cur.execute(\"\"\"SELECT * FROM EMP1\"\"\")\n",
    "print(cur.fetchall())"
   ]
  },
  {
   "cell_type": "code",
   "execution_count": 53,
   "metadata": {},
   "outputs": [],
   "source": [
    "conn.close()"
   ]
  },
  {
   "cell_type": "code",
   "execution_count": 38,
   "metadata": {},
   "outputs": [],
   "source": [
    "conn.commit()"
   ]
  },
  {
   "cell_type": "code",
   "execution_count": 31,
   "metadata": {},
   "outputs": [],
   "source": [
    "conn.rollback()"
   ]
  },
  {
   "cell_type": "code",
   "execution_count": null,
   "metadata": {},
   "outputs": [],
   "source": [
    "Database \n",
    "    tables \n",
    "        rows and cloumns\n",
    "        \n",
    "Datbase :\n",
    "    collections \n",
    "        documents => dict "
   ]
  }
 ],
 "metadata": {
  "kernelspec": {
   "display_name": "Python 3",
   "language": "python",
   "name": "python3"
  },
  "language_info": {
   "codemirror_mode": {
    "name": "ipython",
    "version": 3
   },
   "file_extension": ".py",
   "mimetype": "text/x-python",
   "name": "python",
   "nbconvert_exporter": "python",
   "pygments_lexer": "ipython3",
   "version": "3.6.5"
  }
 },
 "nbformat": 4,
 "nbformat_minor": 2
}
