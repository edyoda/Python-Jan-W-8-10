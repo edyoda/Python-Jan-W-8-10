{
 "cells": [
  {
   "cell_type": "code",
   "execution_count": null,
   "metadata": {},
   "outputs": [],
   "source": [
    "Modes :\n",
    "    r \n",
    "    r+\n",
    "    w\n",
    "    w+\n",
    "    a\n",
    "    a+"
   ]
  },
  {
   "cell_type": "code",
   "execution_count": 1,
   "metadata": {},
   "outputs": [],
   "source": [
    "fp = open(\"test1.txt\",\"r\")\n",
    "fp.close()"
   ]
  },
  {
   "cell_type": "code",
   "execution_count": 4,
   "metadata": {},
   "outputs": [
    {
     "name": "stdout",
     "output_type": "stream",
     "text": [
      "PEP 538: Legacy C Locale Coercion\n",
      "An ongoing challenge within the Python 3 series has been determining a sensible default strategy for handling the “7-bit ASCII” text encoding assumption currently implied by the use of the default C or POSIX locale on non-Windows platforms.\n",
      "\n",
      "PEP 538 updates the default interpreter command line interface to automatically coerce that locale to an available UTF-8 based locale as described in the documentation of the new PYTHONCOERCECLOCALE environment variable. Automatically setting LC_CTYPE this way means that both the core interpreter and locale-aware C extensions (such as readline) will assume the use of UTF-8 as the default text encoding, rather than ASCII.\n",
      "\n",
      "The platform support definition in PEP 11 has also been updated to limit full text handling support to suitably configured non-ASCII based locales.\n",
      "\n",
      "As part of this change, the default error handler for stdin and stdout is now surrogateescape (rather than strict) when using any of the defined coercion target locales (currently C.UTF-8, C.utf8, and UTF-8). The default error handler for stderr continues to be backslashreplace, regardless of locale.\n",
      "\n",
      "Locale coercion is silent by default, but to assist in debugging potentially locale related integration problems, explicit warnings (emitted directly on stderr) can be requested by setting PYTHONCOERCECLOCALE=warn. This setting will also cause the Python runtime to emit a warning if the legacy C locale remains active when the core interpreter is initialized.\n",
      "\n",
      "While PEP 538’s locale coercion has the benefit of also affecting extension modules (such as GNU readline), as well as child processes (including those running non-Python applications and older versions of Python), it has the downside of requiring that a suitable target locale be present on the running system. To better handle the case where no suitable target locale is available (as occurs on RHEL/CentOS 7, for example), Python 3.7 also implements PEP 540: Forced UTF-8 Runtime Mode.\n",
      "\n",
      "See also\n",
      "PEP 538 – Coercing the legacy C locale to a UTF-8 based locale\n",
      "PEP written and implemented by Nick Coghlan.\n",
      "PEP 540: Forced UTF-8 Runtime Mode\n",
      "The new -X utf8 command line option and PYTHONUTF8 environment variable can be used to enable the CPython UTF-8 mode.\n",
      "\n",
      "When in UTF-8 mode, CPython ignores the locale settings, and uses the UTF-8 encoding by default. The error handlers for sys.stdin and sys.stdout streams are set to surrogateescape.\n",
      "\n",
      "The forced UTF-8 mode can be used to change the text handling behavior in an embedded Python interpreter without changing the locale settings of an embedding application.\n",
      "\n",
      "While PEP 540’s UTF-8 mode has the benefit of working regardless of which locales are available on the running system, it has the downside of having no effect on extension modules (such as GNU readline), child processes running non-Python applications, and child processes running older versions of Python. To reduce the risk of corrupting text data when communicating with such components, Python 3.7 also implements PEP 540: Forced UTF-8 Runtime Mode).\n",
      "\n",
      "The UTF-8 mode is enabled by default when the locale is C or POSIX, and the PEP 538 locale coercion feature fails to change it to a UTF-8 based alternative (whether that failure is due to PYTHONCOERCECLOCALE=0 being set, LC_ALL being set, or the lack of a suitable target locale).\n",
      "\n",
      "See also\n",
      "PEP 540 – Add a new UTF-8 mode\n",
      "PEP written and implemented by Victor Stinner\n",
      "PEP 553: Built-in breakpoint()\n",
      "Python 3.7 includes the new built-in breakpoint() function as an easy and consistent way to enter the Python debugger.\n",
      "\n",
      "Built-in breakpoint() calls sys.breakpointhook(). By default, the latter imports pdb and then calls pdb.set_trace(), but by binding sys.breakpointhook() to the function of your choosing, breakpoint() can enter any debugger. Additionally, the environment variable PYTHONBREAKPOINT can be set to the callable of your debugger of choice. Set PYTHONBREAKPOINT=0 to completely disable built-in breakpoint().\n",
      "\n",
      "\n",
      "---------------------------\n",
      "\n"
     ]
    }
   ],
   "source": [
    "fp = open(\"test1.txt\",\"r\",encoding=\"utf-8\")\n",
    "content = fp.read()\n",
    "print(content)\n",
    "fp.close()"
   ]
  },
  {
   "cell_type": "code",
   "execution_count": 6,
   "metadata": {},
   "outputs": [
    {
     "name": "stdout",
     "output_type": "stream",
     "text": [
      "PEP 538: Legacy C Locale Coercion\n",
      "An ongoing \n",
      "challenge within the Python 3 series has been\n"
     ]
    }
   ],
   "source": [
    "fp = open(\"test1.txt\",\"r\",encoding=\"utf-8\")\n",
    "content = fp.read(45)\n",
    "print(content)\n",
    "\n",
    "content = fp.read(45)\n",
    "print(content)\n",
    "\n",
    "fp.close()"
   ]
  },
  {
   "cell_type": "code",
   "execution_count": 8,
   "metadata": {},
   "outputs": [
    {
     "name": "stdout",
     "output_type": "stream",
     "text": [
      "PEP 538: Legacy C Locale Coercion\n",
      "\n",
      "An ongoing challenge within the Python 3 series has been determining a sensible default strategy for handling the “7-bit ASCII” text encoding assumption currently implied by the use of the default C or POSIX locale on non-Windows platforms.\n",
      "\n"
     ]
    }
   ],
   "source": [
    "fp = open(\"test1.txt\",\"r\",encoding=\"utf-8\")\n",
    "content = fp.readline()\n",
    "print(content)\n",
    "\n",
    "content = fp.readline()\n",
    "print(content)\n",
    "fp.close()"
   ]
  },
  {
   "cell_type": "code",
   "execution_count": 14,
   "metadata": {},
   "outputs": [
    {
     "name": "stdout",
     "output_type": "stream",
     "text": [
      "['PEP 538: Legacy C Locale Coercion\\n', 'An ongoing challenge within the Python 3 series has been determining a sensible default strategy for handling the “7-bit ASCII” text encoding assumption currently implied by the use of the default C or POSIX locale on non-Windows platforms.\\n', '\\n', 'PEP 538 updates the default interpreter command line interface to automatically coerce that locale to an available UTF-8 based locale as described in the documentation of the new PYTHONCOERCECLOCALE environment variable. Automatically setting LC_CTYPE this way means that both the core interpreter and locale-aware C extensions (such as readline) will assume the use of UTF-8 as the default text encoding, rather than ASCII.\\n', '\\n', 'The platform support definition in PEP 11 has also been updated to limit full text handling support to suitably configured non-ASCII based locales.\\n', '\\n', 'As part of this change, the default error handler for stdin and stdout is now surrogateescape (rather than strict) when using any of the defined coercion target locales (currently C.UTF-8, C.utf8, and UTF-8). The default error handler for stderr continues to be backslashreplace, regardless of locale.\\n', '\\n', 'Locale coercion is silent by default, but to assist in debugging potentially locale related integration problems, explicit warnings (emitted directly on stderr) can be requested by setting PYTHONCOERCECLOCALE=warn. This setting will also cause the Python runtime to emit a warning if the legacy C locale remains active when the core interpreter is initialized.\\n', '\\n', 'While PEP 538’s locale coercion has the benefit of also affecting extension modules (such as GNU readline), as well as child processes (including those running non-Python applications and older versions of Python), it has the downside of requiring that a suitable target locale be present on the running system. To better handle the case where no suitable target locale is available (as occurs on RHEL/CentOS 7, for example), Python 3.7 also implements PEP 540: Forced UTF-8 Runtime Mode.\\n', '\\n', 'See also\\n', 'PEP 538 – Coercing the legacy C locale to a UTF-8 based locale\\n', 'PEP written and implemented by Nick Coghlan.\\n', 'PEP 540: Forced UTF-8 Runtime Mode\\n', 'The new -X utf8 command line option and PYTHONUTF8 environment variable can be used to enable the CPython UTF-8 mode.\\n', '\\n', 'When in UTF-8 mode, CPython ignores the locale settings, and uses the UTF-8 encoding by default. The error handlers for sys.stdin and sys.stdout streams are set to surrogateescape.\\n', '\\n', 'The forced UTF-8 mode can be used to change the text handling behavior in an embedded Python interpreter without changing the locale settings of an embedding application.\\n', '\\n', 'While PEP 540’s UTF-8 mode has the benefit of working regardless of which locales are available on the running system, it has the downside of having no effect on extension modules (such as GNU readline), child processes running non-Python applications, and child processes running older versions of Python. To reduce the risk of corrupting text data when communicating with such components, Python 3.7 also implements PEP 540: Forced UTF-8 Runtime Mode).\\n', '\\n', 'The UTF-8 mode is enabled by default when the locale is C or POSIX, and the PEP 538 locale coercion feature fails to change it to a UTF-8 based alternative (whether that failure is due to PYTHONCOERCECLOCALE=0 being set, LC_ALL being set, or the lack of a suitable target locale).\\n', '\\n', 'See also\\n', 'PEP 540 – Add a new UTF-8 mode\\n', 'PEP written and implemented by Victor Stinner\\n', 'PEP 553: Built-in breakpoint()\\n', 'Python 3.7 includes the new built-in breakpoint() function as an easy and consistent way to enter the Python debugger.\\n', '\\n', 'Built-in breakpoint() calls sys.breakpointhook(). By default, the latter imports pdb and then calls pdb.set_trace(), but by binding sys.breakpointhook() to the function of your choosing, breakpoint() can enter any debugger. Additionally, the environment variable PYTHONBREAKPOINT can be set to the callable of your debugger of choice. Set PYTHONBREAKPOINT=0 to completely disable built-in breakpoint().\\n', '\\n']\n"
     ]
    }
   ],
   "source": [
    "fp = open(\"test1.txt\",\"r\",encoding=\"utf-8\")\n",
    "\n",
    "\n",
    "content = fp.readlines()\n",
    "print(content)\n",
    "fp.close()"
   ]
  },
  {
   "cell_type": "code",
   "execution_count": null,
   "metadata": {},
   "outputs": [],
   "source": [
    "read => str\n",
    "read(45)\n",
    "readline\n",
    "readlines =>List "
   ]
  },
  {
   "cell_type": "code",
   "execution_count": 15,
   "metadata": {},
   "outputs": [
    {
     "name": "stdout",
     "output_type": "stream",
     "text": [
      "PEP 538: Legacy C Locale Coercion\n",
      "\n",
      "An ongoing challenge within the Python 3 series has been determining a sensible default strategy for handling the “7-bit ASCII” text encoding assumption currently implied by the use of the default C or POSIX locale on non-Windows platforms.\n",
      "\n",
      "\n",
      "\n",
      "PEP 538 updates the default interpreter command line interface to automatically coerce that locale to an available UTF-8 based locale as described in the documentation of the new PYTHONCOERCECLOCALE environment variable. Automatically setting LC_CTYPE this way means that both the core interpreter and locale-aware C extensions (such as readline) will assume the use of UTF-8 as the default text encoding, rather than ASCII.\n",
      "\n",
      "\n",
      "\n",
      "The platform support definition in PEP 11 has also been updated to limit full text handling support to suitably configured non-ASCII based locales.\n",
      "\n",
      "\n",
      "\n",
      "As part of this change, the default error handler for stdin and stdout is now surrogateescape (rather than strict) when using any of the defined coercion target locales (currently C.UTF-8, C.utf8, and UTF-8). The default error handler for stderr continues to be backslashreplace, regardless of locale.\n",
      "\n",
      "\n",
      "\n",
      "Locale coercion is silent by default, but to assist in debugging potentially locale related integration problems, explicit warnings (emitted directly on stderr) can be requested by setting PYTHONCOERCECLOCALE=warn. This setting will also cause the Python runtime to emit a warning if the legacy C locale remains active when the core interpreter is initialized.\n",
      "\n",
      "\n",
      "\n",
      "While PEP 538’s locale coercion has the benefit of also affecting extension modules (such as GNU readline), as well as child processes (including those running non-Python applications and older versions of Python), it has the downside of requiring that a suitable target locale be present on the running system. To better handle the case where no suitable target locale is available (as occurs on RHEL/CentOS 7, for example), Python 3.7 also implements PEP 540: Forced UTF-8 Runtime Mode.\n",
      "\n",
      "\n",
      "\n",
      "See also\n",
      "\n",
      "PEP 538 – Coercing the legacy C locale to a UTF-8 based locale\n",
      "\n",
      "PEP written and implemented by Nick Coghlan.\n",
      "\n",
      "PEP 540: Forced UTF-8 Runtime Mode\n",
      "\n",
      "The new -X utf8 command line option and PYTHONUTF8 environment variable can be used to enable the CPython UTF-8 mode.\n",
      "\n",
      "\n",
      "\n",
      "When in UTF-8 mode, CPython ignores the locale settings, and uses the UTF-8 encoding by default. The error handlers for sys.stdin and sys.stdout streams are set to surrogateescape.\n",
      "\n",
      "\n",
      "\n",
      "The forced UTF-8 mode can be used to change the text handling behavior in an embedded Python interpreter without changing the locale settings of an embedding application.\n",
      "\n",
      "\n",
      "\n",
      "While PEP 540’s UTF-8 mode has the benefit of working regardless of which locales are available on the running system, it has the downside of having no effect on extension modules (such as GNU readline), child processes running non-Python applications, and child processes running older versions of Python. To reduce the risk of corrupting text data when communicating with such components, Python 3.7 also implements PEP 540: Forced UTF-8 Runtime Mode).\n",
      "\n",
      "\n",
      "\n",
      "The UTF-8 mode is enabled by default when the locale is C or POSIX, and the PEP 538 locale coercion feature fails to change it to a UTF-8 based alternative (whether that failure is due to PYTHONCOERCECLOCALE=0 being set, LC_ALL being set, or the lack of a suitable target locale).\n",
      "\n",
      "\n",
      "\n",
      "See also\n",
      "\n",
      "PEP 540 – Add a new UTF-8 mode\n",
      "\n",
      "PEP written and implemented by Victor Stinner\n",
      "\n",
      "PEP 553: Built-in breakpoint()\n",
      "\n",
      "Python 3.7 includes the new built-in breakpoint() function as an easy and consistent way to enter the Python debugger.\n",
      "\n",
      "\n",
      "\n",
      "Built-in breakpoint() calls sys.breakpointhook(). By default, the latter imports pdb and then calls pdb.set_trace(), but by binding sys.breakpointhook() to the function of your choosing, breakpoint() can enter any debugger. Additionally, the environment variable PYTHONBREAKPOINT can be set to the callable of your debugger of choice. Set PYTHONBREAKPOINT=0 to completely disable built-in breakpoint().\n",
      "\n",
      "\n",
      "\n"
     ]
    }
   ],
   "source": [
    "fp = open(\"test1.txt\",\"r\",encoding=\"utf-8\")\n",
    "\n",
    "for x in fp:\n",
    "    print(x)\n",
    "fp.close()"
   ]
  },
  {
   "cell_type": "code",
   "execution_count": 21,
   "metadata": {},
   "outputs": [
    {
     "name": "stdout",
     "output_type": "stream",
     "text": [
      "add this content to file\n"
     ]
    }
   ],
   "source": [
    "fp = open(\"test2.txt\",\"w+\")\n",
    "fp.write(\"add this content to file\")\n",
    "fp.seek(0,0)\n",
    "content = fp.read()\n",
    "print(content)\n",
    "\n",
    "fp.close()"
   ]
  },
  {
   "cell_type": "code",
   "execution_count": null,
   "metadata": {},
   "outputs": [],
   "source": [
    "seek(offset,position)\n",
    "\n",
    "position:\n",
    "    0 => start of the file \n",
    "    1 = > current position \n",
    "    2 => end of the file \n",
    "    \n",
    "seek(15,0)\n",
    "seek(12,1)\n",
    "\n",
    "\n",
    "    "
   ]
  },
  {
   "cell_type": "code",
   "execution_count": 23,
   "metadata": {},
   "outputs": [],
   "source": [
    "fp = open(\"test2.txt\",\"r+\")\n",
    "fp.seek(0,2)\n",
    "fp.write(\"***\")\n",
    "\n",
    "# content = fp.read()\n",
    "# print(content)\n",
    "\n",
    "fp.close()"
   ]
  },
  {
   "cell_type": "code",
   "execution_count": 27,
   "metadata": {},
   "outputs": [
    {
     "name": "stdout",
     "output_type": "stream",
     "text": [
      "315\n",
      "*** this content to file\n",
      "PEP 538: Legacy C Locale Coercion\n",
      "An ongoing challenge within the Python 3 series has been determining a sensible default strategy for handling the “7-bit ASCII” text encoding assumption currently implied by the use of the default C or POSIX locale on non-Windows platforms.***************\n"
     ]
    }
   ],
   "source": [
    "fp = open(\"test2.txt\",\"a+\",encoding=\"utf-8\")\n",
    "print(fp.tell())\n",
    "fp.write(\"***\")\n",
    "\n",
    "fp.seek(0)\n",
    "content = fp.read()\n",
    "print(content)\n",
    "\n",
    "fp.close()"
   ]
  },
  {
   "cell_type": "code",
   "execution_count": null,
   "metadata": {},
   "outputs": [],
   "source": [
    "r => start, error , read\n",
    "r+ => start , error , read + write\n",
    "\n",
    "w => start , create new file , write \n",
    "w+ => start , create new file ,write + read\n",
    "\n",
    "a => end , craete new file , write at the end \n",
    "a+ => end , create new file , write at the end + read \n",
    "\n",
    "tell()\n",
    "seek()\n",
    "0 = start \n",
    "1 = current \n",
    "2 = end "
   ]
  },
  {
   "cell_type": "code",
   "execution_count": null,
   "metadata": {},
   "outputs": [],
   "source": [
    "xml and json"
   ]
  },
  {
   "cell_type": "code",
   "execution_count": null,
   "metadata": {},
   "outputs": [],
   "source": [
    "json                        python\n",
    "str \" \"                     '' \" \" \"\"\" \"\"\"\n",
    "array[10,20,\"Python\"]       list \n",
    "                            tuple\n",
    "json object                 dict\n",
    "numbers                     int float \n",
    "                            set \n",
    "true,false                  True,False"
   ]
  },
  {
   "cell_type": "code",
   "execution_count": 39,
   "metadata": {
    "scrolled": true
   },
   "outputs": [
    {
     "name": "stdout",
     "output_type": "stream",
     "text": [
      "{\n",
      "    \"glossary\": {\n",
      "        \"title\": \"New title for my json file\",\n",
      "        \"GlossDiv\": {\n",
      "            \"title\": \"S\",\n",
      "            \"GlossList\": {\n",
      "                \"GlossEntry\": {\n",
      "                    \"ID\": [\n",
      "                        \"SGML\",\n",
      "                        \"HTML\"\n",
      "                    ],\n",
      "                    \"SortAs\": \"SGML\",\n",
      "                    \"GlossTerm\": \"Standard Generalized Markup Language\",\n",
      "                    \"Acronym\": \"SGML\",\n",
      "                    \"Abbrev\": \"ISO 8879:1986\",\n",
      "                    \"GlossDef\": {\n",
      "                        \"para\": \"A meta-markup language, used to create markup languages such as DocBook.\",\n",
      "                        \"GlossSeeAlso\": [\n",
      "                            \"GML\",\n",
      "                            \"XML\"\n",
      "                        ]\n",
      "                    },\n",
      "                    \"GlossSee\": \"markup\"\n",
      "                }\n",
      "            }\n",
      "        }\n",
      "    }\n",
      "}\n"
     ]
    }
   ],
   "source": [
    "import json \n",
    "fp = open(\"test1.json\",\"r\")\n",
    "content = fp.read()\n",
    "fp.close()\n",
    "d = json.loads(content)\n",
    "\n",
    "d['glossary']['title'] = \"New title for my json file\"\n",
    "\n",
    "\n",
    "\n",
    "d['glossary']['GlossDiv']['GlossList']['GlossEntry']['ID'] = (\"SGML\",\"HTML\")\n",
    "# print(d)\n",
    "\n",
    "j = json.dumps(d,indent=4)\n",
    "print(j)\n",
    "\n",
    "\n",
    "fp  = open(\"test2.json\",\"w\")\n",
    "fp.write(j)\n",
    "fp.close()\n",
    "\n",
    "\n"
   ]
  },
  {
   "cell_type": "code",
   "execution_count": 42,
   "metadata": {},
   "outputs": [],
   "source": [
    "import json \n",
    "\n",
    "fp = open(\"test1.json\",\"r\")\n",
    "d = json.load(fp)\n",
    "fp.close()\n",
    "\n",
    "d['glossary']['title'] = \"New title for my json file\"\n",
    "d['glossary']['GlossDiv']['GlossList']['GlossEntry']['ID'] = (\"SGML\",\"HTML\")\n",
    "\n",
    "fp  = open(\"test2.json\",\"w\")\n",
    "j = json.dump(d,fp,indent=4)\n",
    "fp.close()"
   ]
  },
  {
   "cell_type": "code",
   "execution_count": null,
   "metadata": {},
   "outputs": [],
   "source": [
    "<note>\n",
    "    <to location =\"BANGALORE\">ABC</to>\n",
    "    <from>PQR</from>\n",
    "    <msg>Session at 8 am</msg>\n",
    "</note>"
   ]
  },
  {
   "cell_type": "code",
   "execution_count": 48,
   "metadata": {},
   "outputs": [
    {
     "name": "stdout",
     "output_type": "stream",
     "text": [
      "<?xml version=\"1.0\" encoding=\"utf-8\"?>\n",
      "<glossary><title>example glossary</title><GlossDiv><title>S</title><GlossList><GlossEntry ID=\"HTML\" SortAs=\"SGML\"><GlossTerm>Standard Generalized Markup Language</GlossTerm><Acronym>SGML</Acronym><Abbrev>ISO 8879:1986</Abbrev><GlossDef><para>A meta-markup language, used to create markup\n",
      "languages such as DocBook.</para><GlossSeeAlso OtherTerm=\"GML\"></GlossSeeAlso><GlossSeeAlso OtherTerm=\"XML\"></GlossSeeAlso></GlossDef><GlossSee OtherTerm=\"markup\"></GlossSee></GlossEntry></GlossList></GlossDiv></glossary>\n"
     ]
    }
   ],
   "source": [
    "import xmltodict \n",
    "\n",
    "fp = open(\"test1.xml\",\"r\")\n",
    "content = fp.read()\n",
    "d = xmltodict.parse(content)\n",
    "# print(d['glossary']['GlossDiv']['GlossList']['GlossEntry']['@ID'])\n",
    "d['glossary']['GlossDiv']['GlossList']['GlossEntry']['@ID'] = \"HTML\"\n",
    "\n",
    "# print(d)\n",
    "\n",
    "x = xmltodict.unparse(d)\n",
    "print(x)\n",
    "\n"
   ]
  },
  {
   "cell_type": "code",
   "execution_count": null,
   "metadata": {},
   "outputs": [],
   "source": [
    "json :\n",
    "    loads => json str => python dict\n",
    "    dumps  => python dict => json str \n",
    "    \n",
    "xml :\n",
    "    parse => xml str to python dict\n",
    "    unparse => python dict to xml str"
   ]
  },
  {
   "cell_type": "code",
   "execution_count": null,
   "metadata": {},
   "outputs": [],
   "source": []
  }
 ],
 "metadata": {
  "kernelspec": {
   "display_name": "Python 3",
   "language": "python",
   "name": "python3"
  },
  "language_info": {
   "codemirror_mode": {
    "name": "ipython",
    "version": 3
   },
   "file_extension": ".py",
   "mimetype": "text/x-python",
   "name": "python",
   "nbconvert_exporter": "python",
   "pygments_lexer": "ipython3",
   "version": "3.6.5"
  }
 },
 "nbformat": 4,
 "nbformat_minor": 2
}
