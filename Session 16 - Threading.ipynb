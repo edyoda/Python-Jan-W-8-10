{
 "cells": [
  {
   "cell_type": "code",
   "execution_count": 1,
   "metadata": {},
   "outputs": [],
   "source": [
    "import threading"
   ]
  },
  {
   "cell_type": "code",
   "execution_count": 3,
   "metadata": {},
   "outputs": [],
   "source": [
    "def sqr(num):\n",
    "    print(\"Inside the square method\")\n",
    "    print(num * num)\n",
    "    \n",
    "def multiply(num1,num2):\n",
    "    print(\"Inside multiply method\")\n",
    "    print(num1 * num2)\n",
    "    \n"
   ]
  },
  {
   "cell_type": "code",
   "execution_count": 4,
   "metadata": {},
   "outputs": [
    {
     "name": "stdout",
     "output_type": "stream",
     "text": [
      "Inside the square method\n",
      "100\n",
      "Inside multiply method\n",
      "30\n"
     ]
    }
   ],
   "source": [
    "sqr(10)\n",
    "multiply(5,6)"
   ]
  },
  {
   "cell_type": "code",
   "execution_count": 6,
   "metadata": {},
   "outputs": [],
   "source": [
    "t1 = threading.Thread(target= sqr,args= (10,))\n",
    "t2 = threading.Thread(target= multiply , args=(5,6))"
   ]
  },
  {
   "cell_type": "code",
   "execution_count": 9,
   "metadata": {},
   "outputs": [
    {
     "ename": "RuntimeError",
     "evalue": "threads can only be started once",
     "output_type": "error",
     "traceback": [
      "\u001b[1;31m---------------------------------------------------------------------------\u001b[0m",
      "\u001b[1;31mRuntimeError\u001b[0m                              Traceback (most recent call last)",
      "\u001b[1;32m<ipython-input-9-d2da5a71162f>\u001b[0m in \u001b[0;36m<module>\u001b[1;34m()\u001b[0m\n\u001b[1;32m----> 1\u001b[1;33m \u001b[0mt1\u001b[0m\u001b[1;33m.\u001b[0m\u001b[0mstart\u001b[0m\u001b[1;33m(\u001b[0m\u001b[1;33m)\u001b[0m\u001b[1;33m\u001b[0m\u001b[0m\n\u001b[0m\u001b[0;32m      2\u001b[0m \u001b[0mt2\u001b[0m\u001b[1;33m.\u001b[0m\u001b[0mstart\u001b[0m\u001b[1;33m(\u001b[0m\u001b[1;33m)\u001b[0m\u001b[1;33m\u001b[0m\u001b[0m\n",
      "\u001b[1;32mC:\\ProgramData\\Anaconda3\\lib\\threading.py\u001b[0m in \u001b[0;36mstart\u001b[1;34m(self)\u001b[0m\n\u001b[0;32m    840\u001b[0m \u001b[1;33m\u001b[0m\u001b[0m\n\u001b[0;32m    841\u001b[0m         \u001b[1;32mif\u001b[0m \u001b[0mself\u001b[0m\u001b[1;33m.\u001b[0m\u001b[0m_started\u001b[0m\u001b[1;33m.\u001b[0m\u001b[0mis_set\u001b[0m\u001b[1;33m(\u001b[0m\u001b[1;33m)\u001b[0m\u001b[1;33m:\u001b[0m\u001b[1;33m\u001b[0m\u001b[0m\n\u001b[1;32m--> 842\u001b[1;33m             \u001b[1;32mraise\u001b[0m \u001b[0mRuntimeError\u001b[0m\u001b[1;33m(\u001b[0m\u001b[1;34m\"threads can only be started once\"\u001b[0m\u001b[1;33m)\u001b[0m\u001b[1;33m\u001b[0m\u001b[0m\n\u001b[0m\u001b[0;32m    843\u001b[0m         \u001b[1;32mwith\u001b[0m \u001b[0m_active_limbo_lock\u001b[0m\u001b[1;33m:\u001b[0m\u001b[1;33m\u001b[0m\u001b[0m\n\u001b[0;32m    844\u001b[0m             \u001b[0m_limbo\u001b[0m\u001b[1;33m[\u001b[0m\u001b[0mself\u001b[0m\u001b[1;33m]\u001b[0m \u001b[1;33m=\u001b[0m \u001b[0mself\u001b[0m\u001b[1;33m\u001b[0m\u001b[0m\n",
      "\u001b[1;31mRuntimeError\u001b[0m: threads can only be started once"
     ]
    }
   ],
   "source": [
    "t1.start()\n",
    "t2.start()"
   ]
  },
  {
   "cell_type": "code",
   "execution_count": 1,
   "metadata": {},
   "outputs": [
    {
     "name": "stdout",
     "output_type": "stream",
     "text": [
      "Inside the square method\n",
      "Inside multiply method\n",
      "30\n",
      "100\n"
     ]
    }
   ],
   "source": [
    "import threading\n",
    "import time\n",
    "\n",
    "def sqr(num):\n",
    "    print(\"Inside the square method\")\n",
    "    time.sleep(10)\n",
    "    print(num * num)\n",
    "    \n",
    "def multiply(num1,num2):\n",
    "    print(\"Inside multiply method\")\n",
    "    print(num1 * num2)\n",
    "    \n",
    "t1 = threading.Thread(target= sqr,args= (10,))\n",
    "t2 = threading.Thread(target= multiply , args=(5,6))\n",
    "\n",
    "t1.start()\n",
    "t2.start()\n",
    "    "
   ]
  },
  {
   "cell_type": "code",
   "execution_count": null,
   "metadata": {},
   "outputs": [],
   "source": [
    "Process \n",
    "t1\n",
    "t2"
   ]
  },
  {
   "cell_type": "code",
   "execution_count": 1,
   "metadata": {},
   "outputs": [
    {
     "name": "stdout",
     "output_type": "stream",
     "text": [
      "Inside the square methodInside multiply method\n",
      "30\n",
      "\n",
      "100\n"
     ]
    }
   ],
   "source": [
    "import threading\n",
    "import time\n",
    "\n",
    "def sqr(num):\n",
    "    print(\"Inside the square method\")\n",
    "    time.sleep(5)\n",
    "    print(num * num)\n",
    "    \n",
    "def multiply(num1,num2):\n",
    "    print(\"Inside multiply method\")\n",
    "    print(num1 * num2)\n",
    "    \n",
    "t1 = threading.Thread(target= sqr,args= (10,),daemon = True)\n",
    "t2 = threading.Thread(target= multiply , args=(5,6))\n",
    "\n",
    "t1.start()\n",
    "t2.start()"
   ]
  },
  {
   "cell_type": "code",
   "execution_count": null,
   "metadata": {},
   "outputs": [],
   "source": [
    "import threading\n",
    "import time\n",
    "\n",
    "def sqr(num):\n",
    "    print(\"Inside the square method\")\n",
    "    time.sleep(5)\n",
    "    print(num * num)\n",
    "    \n",
    "def multiply(num1,num2):\n",
    "    print(\"Inside multiply method\")\n",
    "    print(num1 * num2)\n",
    "    \n",
    "t1 = threading.Thread(target= sqr,args= (10,))\n",
    "t2 = threading.Thread(target= multiply , args=(5,6))\n",
    "\n",
    "t1.start()\n",
    "t1.join(2)\n",
    "t2.start()"
   ]
  },
  {
   "cell_type": "code",
   "execution_count": null,
   "metadata": {},
   "outputs": [],
   "source": [
    "def sqr(num):\n",
    "\tglobal count\n",
    "\tprint(\"Inside the square method\")\n",
    "\tlock.acquire()\n",
    "\tfor value in range(5):\n",
    "\n",
    "\t\tcount += 7\n",
    "\t\tprint(count)\n",
    "\t\ttime.sleep(2)\n",
    "\tlock.release()\n",
    "\n",
    "\n",
    "def multiply(num1,num2):\n",
    "\tglobal count\n",
    "\tprint(\"Inside multiply method\")\n",
    "\t# print(\"Multiplication is \",num1 * num2)\n",
    "\tlock.acquire()\n",
    "\tfor value in range(5):\n",
    "\t\tcount += 2\n",
    "\t\tprint(count)\n",
    "\t\ttime.sleep(1)\n",
    "\tlock.release()\n",
    "\n",
    "count = 40 \n",
    "lock = threading.Lock()\n",
    "\n",
    "t1 = threading.Thread(target= sqr,args= (10,))\n",
    "t2 = threading.Thread(target= multiply , args=(5,6))\n",
    "\n",
    "t1.start()\n",
    "t2.start()"
   ]
  },
  {
   "cell_type": "code",
   "execution_count": null,
   "metadata": {},
   "outputs": [],
   "source": [
    "import requests\n",
    "from bs4 import BeautifulSoup\n",
    "import threading\n",
    "\n",
    "def get_details(card):\n",
    "\tprice = card.find(\"div\",attrs={\"class\":\"m-srp-card__price\"})\n",
    "\ttitle  = card.find(\"a\",attrs = {\"class\":\"m-srp-card__title\"})\n",
    "\ttitle_text = title.text.replace(\"\\n\",\" \")\n",
    "\tarea = card.find(\"div\",attrs = {\"class\":\"m-srp-card__summary__info\"})\n",
    "    \n",
    "\tif price:\n",
    "\t\tprice_text = price.text\n",
    "\telse:\n",
    "\t\tprice_text = None\n",
    "        \n",
    "\tresponse2 = requests.get(title.get(\"href\"))\n",
    "\tsoup2 = BeautifulSoup(response2.content,\"html.parser\")\n",
    "\tdescription = soup2.find(\"div\",attrs={\"class\":\"descriptionCont\"})\n",
    "\n",
    "\tbooking_row = description.find_all(\"div\",attrs = {\"class\":\"p_infoRow\"})\n",
    "\tbooking_amt = booking_row[2].find(\"span\",attrs = {\"class\":\"semiBold\"})\n",
    "\tif booking_amt:\n",
    "\t    booking_amt_text = booking_amt.text\n",
    "\telse:\n",
    "\t    booking_amt_text = None\n",
    "\n",
    "\tprint(\"{} {} {} {}\".format(title_text,price_text,area.text,booking_amt_text))\n",
    "\n",
    "\n",
    "\n",
    "response = requests.get(\"https://www.magicbricks.com/property-for-sale/residential-real-estate?proptype=Multistorey-Apartment,Builder-Floor-Apartment,Penthouse,Studio-Apartment&cityName=Bangalore\")\n",
    "soup = BeautifulSoup(response.content,\"html.parser\")\n",
    "cards = soup.find_all(\"div\",attrs = {\"class\":\"m-srp-card__container\"})\n",
    "\n",
    "for card in cards:\n",
    "\tt = threading.Thread(target = get_details , args = (card,))\n",
    "\tt.start()\n",
    "\t"
   ]
  }
 ],
 "metadata": {
  "kernelspec": {
   "display_name": "Python 3",
   "language": "python",
   "name": "python3"
  },
  "language_info": {
   "codemirror_mode": {
    "name": "ipython",
    "version": 3
   },
   "file_extension": ".py",
   "mimetype": "text/x-python",
   "name": "python",
   "nbconvert_exporter": "python",
   "pygments_lexer": "ipython3",
   "version": "3.6.5"
  }
 },
 "nbformat": 4,
 "nbformat_minor": 2
}
