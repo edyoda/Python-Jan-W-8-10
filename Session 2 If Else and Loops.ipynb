{
 "cells": [
  {
   "cell_type": "code",
   "execution_count": null,
   "metadata": {},
   "outputs": [],
   "source": [
    "comparison ==,!=,<,>,<=,>=\n",
    "identity is is not \n",
    "memebrship operators in not in\n",
    "logical operators \n"
   ]
  },
  {
   "cell_type": "code",
   "execution_count": null,
   "metadata": {},
   "outputs": [],
   "source": [
    "== value is memory location "
   ]
  },
  {
   "cell_type": "code",
   "execution_count": null,
   "metadata": {},
   "outputs": [],
   "source": [
    "type(), id()"
   ]
  },
  {
   "cell_type": "code",
   "execution_count": null,
   "metadata": {},
   "outputs": [],
   "source": [
    "num1,num2 = num2,num1"
   ]
  },
  {
   "cell_type": "code",
   "execution_count": 1,
   "metadata": {},
   "outputs": [
    {
     "name": "stdout",
     "output_type": "stream",
     "text": [
      "False\n"
     ]
    }
   ],
   "source": [
    "d = {\"name\":\"abc\",\"email\":\"abc@xyz.com\",\"contact\":7894466}\n",
    "print(\"abc\" in d)\n",
    "print(4 in 400)"
   ]
  },
  {
   "cell_type": "code",
   "execution_count": null,
   "metadata": {},
   "outputs": [],
   "source": [
    "list \n",
    "dict \n",
    "set "
   ]
  },
  {
   "cell_type": "code",
   "execution_count": null,
   "metadata": {},
   "outputs": [],
   "source": [
    "if [condition]:\n",
    "    statemnts\n",
    "elif [condition]:\n",
    "    statemnts\n",
    "else:\n",
    "     statemnts"
   ]
  },
  {
   "cell_type": "code",
   "execution_count": 12,
   "metadata": {},
   "outputs": [
    {
     "name": "stdout",
     "output_type": "stream",
     "text": [
      "num2 is greater\n",
      "Just another statement in elif block\n"
     ]
    }
   ],
   "source": [
    "num1 = 400\n",
    "num2 = 500\n",
    "if num1 > num2 :\n",
    "    if num1 % 5 == 0:\n",
    "        print(\"num1 is greater and divisible by 5\")\n",
    "    else:\n",
    "        print(\"num1 is greater\")\n",
    "elif num2 > num1:\n",
    "    print(\"num2 is greater\")    \n",
    "else:\n",
    "    print(\"Both are equal\")"
   ]
  },
  {
   "cell_type": "code",
   "execution_count": 15,
   "metadata": {},
   "outputs": [
    {
     "name": "stdout",
     "output_type": "stream",
     "text": [
      "vowel\n"
     ]
    }
   ],
   "source": [
    "char = 'a'\n",
    "# vowel or consonent\n",
    "if char in \"aeiou\":\n",
    "    print(\"vowel\")\n",
    "else:\n",
    "    print(\"consonent\")\n",
    "\n",
    "# ctrl / = multiline comment"
   ]
  },
  {
   "cell_type": "code",
   "execution_count": 18,
   "metadata": {},
   "outputs": [
    {
     "name": "stdout",
     "output_type": "stream",
     "text": [
      "even and converting to odd 45\n"
     ]
    }
   ],
   "source": [
    "num1 = 44\n",
    "if num1 % 2 == 0:\n",
    "    print(\"even and converting to odd\",num1 + 1)\n",
    "else:\n",
    "    print(\"odd and converting to even \",num1 + 1)"
   ]
  },
  {
   "cell_type": "code",
   "execution_count": 25,
   "metadata": {},
   "outputs": [
    {
     "name": "stdout",
     "output_type": "stream",
     "text": [
      "Java\n"
     ]
    }
   ],
   "source": [
    "if None:\n",
    "    print(\"Hi\")\n",
    "else:\n",
    "    print(\"Java\")"
   ]
  },
  {
   "cell_type": "code",
   "execution_count": null,
   "metadata": {},
   "outputs": [],
   "source": [
    "if [condition]:\n",
    "    statemnts\n",
    "elif [condition]:\n",
    "    statemnts\n",
    "elif [condituon]:\n",
    "    statemnts\n",
    "else:\n",
    "    statemnts\n",
    "    \n"
   ]
  },
  {
   "cell_type": "code",
   "execution_count": null,
   "metadata": {},
   "outputs": [],
   "source": [
    "For \n",
    "While "
   ]
  },
  {
   "cell_type": "code",
   "execution_count": null,
   "metadata": {},
   "outputs": [],
   "source": [
    "num = 'a'\n",
    "l = ['a','e','z']\n",
    "l = [10,20,30,40,50,60]"
   ]
  },
  {
   "cell_type": "code",
   "execution_count": null,
   "metadata": {},
   "outputs": [],
   "source": [
    "for [userdefined_variable] in [collection of elements]:\n",
    "    statemnts"
   ]
  },
  {
   "cell_type": "code",
   "execution_count": null,
   "metadata": {},
   "outputs": [],
   "source": [
    "list \n",
    "strings \n",
    "tuple \n",
    "dict \n",
    "set \n"
   ]
  },
  {
   "cell_type": "code",
   "execution_count": 29,
   "metadata": {},
   "outputs": [
    {
     "name": "stdout",
     "output_type": "stream",
     "text": [
      "210\n"
     ]
    }
   ],
   "source": [
    "l = [10,20,30,40,50,60]\n",
    "sum = 0\n",
    "for value in l:    \n",
    "    sum = sum + value\n",
    "print(sum)"
   ]
  },
  {
   "cell_type": "code",
   "execution_count": null,
   "metadata": {},
   "outputs": [],
   "source": [
    "range(10) 0 1 2 3 .... 9\n",
    "range(10,50) 10 11 12 ..... 49\n",
    "range(10,50,5) 10 15 20 25 ..... 45"
   ]
  },
  {
   "cell_type": "code",
   "execution_count": 32,
   "metadata": {},
   "outputs": [
    {
     "name": "stdout",
     "output_type": "stream",
     "text": [
      "5050\n"
     ]
    }
   ],
   "source": [
    "sum = 0\n",
    "for value in range(1,101):\n",
    "   \n",
    "    sum = sum + value\n",
    "print(sum)"
   ]
  },
  {
   "cell_type": "code",
   "execution_count": 34,
   "metadata": {},
   "outputs": [
    {
     "name": "stdout",
     "output_type": "stream",
     "text": [
      "10\n",
      "20\n",
      "30\n",
      "40\n",
      "50\n"
     ]
    }
   ],
   "source": [
    "l = [10,15,20,25,30,35,40,50]\n",
    "for value in l:\n",
    "    if value %2 == 0:\n",
    "        print(value)"
   ]
  },
  {
   "cell_type": "code",
   "execution_count": 41,
   "metadata": {},
   "outputs": [
    {
     "name": "stdout",
     "output_type": "stream",
     "text": [
      "Not a perfect num\n"
     ]
    }
   ],
   "source": [
    "num1 = 27\n",
    "sum = 0\n",
    "for value in range(1,num1):\n",
    "    if num1 % value ==0:\n",
    "        sum = sum + value\n",
    "        \n",
    "if num1 == sum:\n",
    "    print(\"Perfect no \")\n",
    "else:\n",
    "    print(\"Not a perfect num\")"
   ]
  },
  {
   "cell_type": "code",
   "execution_count": 42,
   "metadata": {},
   "outputs": [
    {
     "name": "stdout",
     "output_type": "stream",
     "text": [
      "100\n"
     ]
    }
   ],
   "source": [
    "l = [4,45,74,85,47,100,76,94,20]\n",
    "max = 0\n",
    "\n",
    "for value in l:\n",
    "    if max < value:\n",
    "        max = value\n",
    "print(max)"
   ]
  },
  {
   "cell_type": "code",
   "execution_count": 60,
   "metadata": {},
   "outputs": [
    {
     "name": "stdout",
     "output_type": "stream",
     "text": [
      "Element not present\n"
     ]
    }
   ],
   "source": [
    "l = [10,20,30,40,50,60,70,80]\n",
    "key = 500\n",
    "for index,value in enumerate(l):\n",
    "    \n",
    "    if key == value:\n",
    "        print(\"Element present\",index)\n",
    "        break\n",
    "else:\n",
    "    print(\"Element not present\")"
   ]
  },
  {
   "cell_type": "code",
   "execution_count": null,
   "metadata": {},
   "outputs": [],
   "source": [
    "break continue"
   ]
  },
  {
   "cell_type": "code",
   "execution_count": 56,
   "metadata": {},
   "outputs": [
    {
     "name": "stdout",
     "output_type": "stream",
     "text": [
      "0 10\n",
      "1 20\n",
      "2 30\n",
      "3 40\n",
      "4 50\n"
     ]
    }
   ],
   "source": [
    "l = [10,20,30,40,50]\n",
    "for index,value in enumerate(l):\n",
    "    print(index,value)"
   ]
  },
  {
   "cell_type": "code",
   "execution_count": null,
   "metadata": {},
   "outputs": [],
   "source": [
    "for user_varaibale in [collection]:\n",
    "    statemnts"
   ]
  },
  {
   "cell_type": "code",
   "execution_count": null,
   "metadata": {},
   "outputs": [],
   "source": [
    "range(100,205) 100 101 .... 204\n",
    "break \n",
    "continue \n",
    "enumerate\n",
    "else\n"
   ]
  },
  {
   "cell_type": "code",
   "execution_count": null,
   "metadata": {},
   "outputs": [],
   "source": [
    "Check if no is prime number or not\n",
    "num1 = 13 "
   ]
  },
  {
   "cell_type": "code",
   "execution_count": null,
   "metadata": {},
   "outputs": [],
   "source": [
    "fibonacci series\n",
    "0,1,1,2,3,5,8,13"
   ]
  },
  {
   "cell_type": "code",
   "execution_count": null,
   "metadata": {},
   "outputs": [],
   "source": [
    "Second max \n",
    "l = [10,15,20,24,78,41,45,55,80,90] => 80 "
   ]
  },
  {
   "cell_type": "code",
   "execution_count": null,
   "metadata": {},
   "outputs": [],
   "source": [
    "for value in [iterable data types]:\n",
    "    statemnts\n",
    "    break\n",
    "else:\n",
    "    "
   ]
  },
  {
   "cell_type": "code",
   "execution_count": null,
   "metadata": {},
   "outputs": [],
   "source": [
    "reange(50) : 0 ... 49 \n",
    "range(10,50) : 10 11 .... 49 \n",
    "range(10,50,5) : 10 15 20 ... 45"
   ]
  },
  {
   "cell_type": "code",
   "execution_count": null,
   "metadata": {},
   "outputs": [],
   "source": [
    "break \n",
    "continue\n"
   ]
  },
  {
   "cell_type": "code",
   "execution_count": null,
   "metadata": {},
   "outputs": [],
   "source": [
    "\n",
    "    "
   ]
  },
  {
   "cell_type": "code",
   "execution_count": null,
   "metadata": {},
   "outputs": [],
   "source": [
    "count =0\n",
    "while [condition]:\n",
    "    statemnts\n",
    "    count +=1"
   ]
  },
  {
   "cell_type": "code",
   "execution_count": 1,
   "metadata": {},
   "outputs": [
    {
     "name": "stdout",
     "output_type": "stream",
     "text": [
      "210\n"
     ]
    }
   ],
   "source": [
    "count = 1\n",
    "sum = 0\n",
    "while count <= 20:\n",
    "    sum = sum + count \n",
    "    count+=1\n",
    "print(sum)"
   ]
  },
  {
   "cell_type": "code",
   "execution_count": 7,
   "metadata": {},
   "outputs": [
    {
     "name": "stdout",
     "output_type": "stream",
     "text": [
      "[30, 40, 50, 60, 70, 80]\n"
     ]
    }
   ],
   "source": [
    "l = [80,70,60,50,40,30]\n",
    "# for index,value in enumerate(l):\n",
    "#     if l[index] > l[index + 1]:\n",
    "#         l[index],l[index +1] = l[index+1],l[index]\n",
    "        \n",
    "# print(l)\n",
    "count = 1\n",
    "while(count <= len(l)-1):\n",
    "    for index in range(len(l)-1):\n",
    "        if l[index] > l[index + 1]:\n",
    "            l[index],l[index +1] = l[index+1],l[index]\n",
    "    count+=1\n",
    "print(l)"
   ]
  },
  {
   "cell_type": "code",
   "execution_count": 4,
   "metadata": {},
   "outputs": [
    {
     "name": "stdout",
     "output_type": "stream",
     "text": [
      "0 10\n",
      "1 20\n",
      "2 30\n",
      "3 40\n",
      "4 50\n",
      "5 60\n"
     ]
    }
   ],
   "source": [
    "l = [10,20,30,40,50,60]\n",
    "for index in range(len(l)):\n",
    "    print(index,l[index])"
   ]
  },
  {
   "cell_type": "code",
   "execution_count": 9,
   "metadata": {},
   "outputs": [
    {
     "name": "stdout",
     "output_type": "stream",
     "text": [
      "100 78\n"
     ]
    }
   ],
   "source": [
    "l = [10,20,45,35,78,100,52,45,78]\n",
    "max = 0 \n",
    "sec_max = 0 \n",
    "\n",
    "# max  = 20\n",
    "# sec = 10 \n",
    "\n",
    "\n",
    "# ma x = 100\n",
    "# sec = 75\n",
    "\n",
    "\n",
    "for value in l:\n",
    "    if value > max : \n",
    "        sec_max = max\n",
    "        max = value\n",
    "    elif value < max and value > sec_max:\n",
    "        sec_max  =  value\n",
    "        \n",
    "print(max,sec_max)\n",
    "    \n",
    "\n",
    "# value > max value > sec_max :\n",
    "#     max = value \n",
    "#     sec_max = max \n",
    "    \n",
    "# value < max value > sec_max:\n",
    "#     sec_max = value \n",
    "    \n",
    "# value < sec_max \n",
    "\n",
    "\n",
    "\n"
   ]
  },
  {
   "cell_type": "code",
   "execution_count": null,
   "metadata": {},
   "outputs": [],
   "source": [
    "0,1,1,2,3,5,8......"
   ]
  },
  {
   "cell_type": "code",
   "execution_count": 11,
   "metadata": {},
   "outputs": [
    {
     "name": "stdout",
     "output_type": "stream",
     "text": [
      "1\n",
      "2\n",
      "3\n",
      "5\n",
      "8\n",
      "13\n",
      "21\n",
      "34\n",
      "55\n",
      "89\n",
      "144\n",
      "233\n",
      "377\n",
      "610\n",
      "987\n",
      "1597\n",
      "2584\n",
      "4181\n",
      "6765\n",
      "10946\n"
     ]
    }
   ],
   "source": [
    "count = 0\n",
    "\n",
    "num1 = 0\n",
    "num2 = 1\n",
    "while count < 20:\n",
    "    next_num = num1 + num2\n",
    "    print(next_num)\n",
    "    num1,num2 = num2,next_num\n",
    "    count+=1\n",
    "    \n"
   ]
  },
  {
   "cell_type": "code",
   "execution_count": null,
   "metadata": {},
   "outputs": [],
   "source": []
  }
 ],
 "metadata": {
  "kernelspec": {
   "display_name": "Python 3",
   "language": "python",
   "name": "python3"
  },
  "language_info": {
   "codemirror_mode": {
    "name": "ipython",
    "version": 3
   },
   "file_extension": ".py",
   "mimetype": "text/x-python",
   "name": "python",
   "nbconvert_exporter": "python",
   "pygments_lexer": "ipython3",
   "version": "3.6.5"
  }
 },
 "nbformat": 4,
 "nbformat_minor": 2
}
