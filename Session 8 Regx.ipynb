{
 "cells": [
  {
   "cell_type": "code",
   "execution_count": null,
   "metadata": {},
   "outputs": [],
   "source": [
    "pattern matching \n",
    "pattern extraction  "
   ]
  },
  {
   "cell_type": "code",
   "execution_count": 1,
   "metadata": {},
   "outputs": [],
   "source": [
    "import re "
   ]
  },
  {
   "cell_type": "code",
   "execution_count": 2,
   "metadata": {},
   "outputs": [
    {
     "name": "stdout",
     "output_type": "stream",
     "text": [
      "['ab', 'ab', 'ab', 'ab', 'ab']\n"
     ]
    }
   ],
   "source": [
    "s = \"abcdascababadcbdaababa\"\n",
    "r = re.compile(\"ab\")\n",
    "l = re.findall(r,s)\n",
    "print(l)"
   ]
  },
  {
   "cell_type": "code",
   "execution_count": null,
   "metadata": {},
   "outputs": [],
   "source": [
    "Metachars :\n",
    "    1. . => match with any char => only 1 char \n",
    "    2. [A-Za-z] char class => 1 char => a or b or....or z \n",
    "    3. [0-9] digit class => 1 char [0-9]\n",
    "    4. + => atleast one occurance should be there and more than one is accepted \n",
    "    5. * => zero or more occrances\n",
    "    6. ^ => start\n",
    "    7. $ => end \n",
    "    8. [a-z]{2,5}\n",
    "    9. [0-9]?"
   ]
  },
  {
   "cell_type": "code",
   "execution_count": 3,
   "metadata": {},
   "outputs": [
    {
     "name": "stdout",
     "output_type": "stream",
     "text": [
      "['a', 'b', 'c', 'd', '1', '2', '3', '4', '@', '#', '$', '%']\n"
     ]
    }
   ],
   "source": [
    "s = \"abcd1234@#$%\"\n",
    "r = re.compile(\".\")\n",
    "l = re.findall(r,s)\n",
    "print(l)"
   ]
  },
  {
   "cell_type": "code",
   "execution_count": 24,
   "metadata": {},
   "outputs": [
    {
     "name": "stdout",
     "output_type": "stream",
     "text": [
      "[]\n"
     ]
    }
   ],
   "source": [
    "s = \"abcdeee1234\"\n",
    "r = re.compile(\"^[a-z]{2,5}[0-9]+$\")\n",
    "l = re.findall(r,s)\n",
    "print(l)"
   ]
  },
  {
   "cell_type": "code",
   "execution_count": 27,
   "metadata": {},
   "outputs": [
    {
     "name": "stdout",
     "output_type": "stream",
     "text": [
      "['ABCDE1234A']\n"
     ]
    }
   ],
   "source": [
    "s = \"ABCDE1234A\"\n",
    "r =  re.compile(\"^[A-Z]{5}[0-9]{4}[A-Z]$\")\n",
    "l = re.findall(r,s)\n",
    "print(l)"
   ]
  },
  {
   "cell_type": "code",
   "execution_count": 28,
   "metadata": {},
   "outputs": [
    {
     "name": "stdout",
     "output_type": "stream",
     "text": [
      "['6123456789']\n"
     ]
    }
   ],
   "source": [
    "s = \"6123456789\"\n",
    "r = re.compile(\"^[6-9][0-9]{9}$\")\n",
    "l = re.findall(r,s)\n",
    "print(l)"
   ]
  },
  {
   "cell_type": "code",
   "execution_count": 40,
   "metadata": {},
   "outputs": [
    {
     "name": "stdout",
     "output_type": "stream",
     "text": [
      "6123456789\n"
     ]
    }
   ],
   "source": [
    "s = \"(+91)6123456789\"\n",
    "r = re.compile(\"^(\\(\\+91\\))?([6-9][0-9]{9})$\")\n",
    "m = re.search(r,s)\n",
    "if m:\n",
    "    print(m.group(2))\n",
    "else:\n",
    "    print(\"invalid string\")"
   ]
  },
  {
   "cell_type": "code",
   "execution_count": 48,
   "metadata": {},
   "outputs": [
    {
     "name": "stdout",
     "output_type": "stream",
     "text": [
      "12\n"
     ]
    }
   ],
   "source": [
    "s = \"25-12-2019\"\n",
    "s1 = \"35-35-2019\"\n",
    "r =  re.compile(\"^([0-9]{1,2})-([0-9]{1,2})-([0-9]{4})\")\n",
    "m = re.search(r,s)\n",
    "if m:\n",
    "    print(m.group(2))"
   ]
  },
  {
   "cell_type": "code",
   "execution_count": 53,
   "metadata": {},
   "outputs": [
    {
     "name": "stdout",
     "output_type": "stream",
     "text": [
      "25\n"
     ]
    }
   ],
   "source": [
    "s = \"25-12-2019\"\n",
    "\n",
    "r =  re.compile(\"^(?P<day>\\d{1,2})-(?P<month>[0-9]{1,2})-(?P<year>[0-9]{4})\")\n",
    "m = re.search(r,s)\n",
    "if m:\n",
    "    print(m.group(\"day\"))"
   ]
  },
  {
   "cell_type": "code",
   "execution_count": null,
   "metadata": {},
   "outputs": [],
   "source": [
    "[0-9] => \\d\n",
    "[^0-9] => \\D\n",
    "\n",
    "\\s space \n",
    "\\S \n",
    "\n",
    "[0-9a-zA-Z] \\w\n",
    "[^0-9a-zA-Z] \\W"
   ]
  },
  {
   "cell_type": "code",
   "execution_count": null,
   "metadata": {},
   "outputs": [],
   "source": [
    ". => match with any char \n",
    "[a-z] char class \n",
    "[0-9] digit class\n",
    "+ => atleast one + more \n",
    "* => zeo or more \n",
    "? => optional \n",
    "^ => start with\n",
    "$ => end with \n",
    "{5} => range "
   ]
  },
  {
   "cell_type": "code",
   "execution_count": null,
   "metadata": {},
   "outputs": [],
   "source": [
    "1. 125.125.125.125 => ip address validation 0.0.0.0 255.255.255.255\n",
    "2. email address validation abc_pqr.xyz1234@xyz.co.in\n",
    "3. txt text and url  ,extract urls and strore in different file \n",
    "4. date validation "
   ]
  }
 ],
 "metadata": {
  "kernelspec": {
   "display_name": "Python 3",
   "language": "python",
   "name": "python3"
  },
  "language_info": {
   "codemirror_mode": {
    "name": "ipython",
    "version": 3
   },
   "file_extension": ".py",
   "mimetype": "text/x-python",
   "name": "python",
   "nbconvert_exporter": "python",
   "pygments_lexer": "ipython3",
   "version": "3.6.5"
  }
 },
 "nbformat": 4,
 "nbformat_minor": 2
}
