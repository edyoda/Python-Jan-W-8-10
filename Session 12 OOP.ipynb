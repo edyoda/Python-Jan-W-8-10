{
 "cells": [
  {
   "cell_type": "code",
   "execution_count": null,
   "metadata": {},
   "outputs": [],
   "source": [
    "Paytm :\n",
    "    mob no \n",
    "    email\n",
    "    kyc details \n",
    "    payment details \n",
    "    \n",
    "    add money \n",
    "    book tickets \n",
    "    recharge "
   ]
  },
  {
   "cell_type": "code",
   "execution_count": null,
   "metadata": {},
   "outputs": [],
   "source": [
    "class:\n",
    "    variable  => data members \n",
    "    \n",
    "    methods/functions \n",
    "oBjects \n",
    "user1 \n",
    "user2 \n"
   ]
  },
  {
   "cell_type": "code",
   "execution_count": null,
   "metadata": {},
   "outputs": [],
   "source": [
    "Emp :\n",
    "    id \n",
    "    name \n",
    "    email \n",
    "    sal \n",
    "    \n",
    "    get_details()\n",
    "    incr_sal()\n",
    "    set_dept()"
   ]
  },
  {
   "cell_type": "code",
   "execution_count": 3,
   "metadata": {},
   "outputs": [
    {
     "name": "stdout",
     "output_type": "stream",
     "text": [
      "<__main__.Emp object at 0x000001434B099400>\n"
     ]
    }
   ],
   "source": [
    "class Emp:\n",
    "    pass\n",
    "\n",
    "emp1 = Emp()\n",
    "print(emp1)"
   ]
  },
  {
   "cell_type": "code",
   "execution_count": 17,
   "metadata": {},
   "outputs": [
    {
     "name": "stdout",
     "output_type": "stream",
     "text": [
      "<__main__.Emp object at 0x000001434B2076A0>\n",
      "<__main__.Emp object at 0x000001434B201E10>\n",
      "<__main__.Emp object at 0x000001434B2076A0>\n",
      "<__main__.Emp object at 0x000001434B201E10>\n"
     ]
    }
   ],
   "source": [
    "class Emp:\n",
    "    def __init__(self,emp_id,name,email,sal):\n",
    "        self.emp_id = emp_id\n",
    "        self.name = name \n",
    "        self.emp_email = email\n",
    "        self.sal = sal\n",
    "        \n",
    "    def set_dept(self,dept_name):\n",
    "        self.dept_name = dept_name\n",
    "    \n",
    "    def incr_sal(self,per = 30):\n",
    "        self.sal = self.sal + (self.sal * per) /100\n",
    "        return self.sal\n",
    "        \n",
    "emp1 = Emp(101,\"ABC\",\"abc@xyz.com\",45000)\n",
    "print(emp1)\n",
    "\n",
    "emp2 = Emp(102,\"PQR\",\"pqr@xyz.com\",55000)\n",
    "print(emp2)\n",
    "\n",
    "emp3 = Emp(103,\"QWE\",\"qwe@xyz.com\",65000)\n",
    "print(emp1)\n",
    "\n",
    "emp4 = Emp(104,\"RST\",\"rst@xyz.com\",55000)\n",
    "print(emp2)"
   ]
  },
  {
   "cell_type": "code",
   "execution_count": 5,
   "metadata": {},
   "outputs": [
    {
     "name": "stdout",
     "output_type": "stream",
     "text": [
      "101 ABC 101 45000\n",
      "102 PQR 102 55000\n"
     ]
    }
   ],
   "source": [
    "print(emp1.emp_id,emp1.name,emp1.emp_id,emp1.sal)\n",
    "print(emp2.emp_id,emp2.name,emp2.emp_id,emp2.sal)"
   ]
  },
  {
   "cell_type": "code",
   "execution_count": 8,
   "metadata": {},
   "outputs": [],
   "source": [
    "emp1.set_dept(\"HR\")\n",
    "\n",
    "\n"
   ]
  },
  {
   "cell_type": "code",
   "execution_count": 11,
   "metadata": {},
   "outputs": [
    {
     "name": "stdout",
     "output_type": "stream",
     "text": [
      "HR\n",
      "{'emp_id': 101, 'name': 'ABC', 'emp_email': 'abc@xyz.com', 'sal': 45000, 'dept_name': 'HR'}\n"
     ]
    }
   ],
   "source": [
    "print(emp1.dept_name)\n",
    "print(emp1.__dict__)"
   ]
  },
  {
   "cell_type": "code",
   "execution_count": 14,
   "metadata": {},
   "outputs": [
    {
     "name": "stdout",
     "output_type": "stream",
     "text": [
      "{'emp_id': 102, 'name': 'PQR', 'emp_email': 'pqr@xyz.com', 'sal': 55000}\n"
     ]
    }
   ],
   "source": [
    "# print(emp2.dept_name)\n",
    "print(emp2.__dict__)"
   ]
  },
  {
   "cell_type": "code",
   "execution_count": null,
   "metadata": {},
   "outputs": [],
   "source": [
    "Instance variable : "
   ]
  },
  {
   "cell_type": "code",
   "execution_count": 16,
   "metadata": {},
   "outputs": [
    {
     "name": "stdout",
     "output_type": "stream",
     "text": [
      "63000.0\n",
      "71500.0\n"
     ]
    }
   ],
   "source": [
    "sal_emp1 = emp1.incr_sal(40)\n",
    "print(sal_emp1)\n",
    "sal_emp2 = emp2.incr_sal()\n",
    "print(sal_emp2)"
   ]
  },
  {
   "cell_type": "code",
   "execution_count": 18,
   "metadata": {},
   "outputs": [
    {
     "name": "stdout",
     "output_type": "stream",
     "text": [
      "58500.0\n",
      "71500.0\n",
      "84500.0\n",
      "71500.0\n"
     ]
    }
   ],
   "source": [
    "emps = [emp1,emp2,emp3,emp4]\n",
    "for emp in emps:\n",
    "    print(emp.incr_sal())"
   ]
  },
  {
   "cell_type": "code",
   "execution_count": 33,
   "metadata": {},
   "outputs": [],
   "source": [
    "class Emp:\n",
    "    def __init__(self,emp_id,name,email,sal):\n",
    "        self.__emp_id = emp_id\n",
    "        self.__name = name \n",
    "        self.emp_email = email\n",
    "        self.__sal = sal\n",
    "      \n",
    "    def get_emp_id(self):\n",
    "        return self.__emp_id\n",
    "    \n",
    "    def get_name(self):\n",
    "        return self.__name\n",
    "    \n",
    "    def set_name(self,new_name):\n",
    "        self.__name = new_name\n",
    "        \n",
    "    def set_dept(self,dept_name):\n",
    "        self.__dept_name = dept_name\n",
    "    \n",
    "    def incr_sal(self,per = 30):\n",
    "        self.__sal = self.__sal + (self.__sal * per) /100\n",
    "        return self.__sal\n",
    "        \n",
    "emp1 = Emp(101,\"ABC\",\"abc@xyz.com\",45000)\n",
    "\n",
    "\n",
    "emp2 = Emp(102,\"PQR\",\"pqr@xyz.com\",55000)\n",
    "\n",
    "emp3 = Emp(103,\"QWE\",\"qwe@xyz.com\",65000)\n",
    "\n",
    "emp4 = Emp(104,\"RST\",\"rst@xyz.com\",55000)\n",
    "\n"
   ]
  },
  {
   "cell_type": "code",
   "execution_count": 27,
   "metadata": {},
   "outputs": [
    {
     "name": "stdout",
     "output_type": "stream",
     "text": [
      "101\n"
     ]
    }
   ],
   "source": [
    "print(emp1.get_emp_id())"
   ]
  },
  {
   "cell_type": "code",
   "execution_count": 30,
   "metadata": {},
   "outputs": [
    {
     "name": "stdout",
     "output_type": "stream",
     "text": [
      "ABC\n",
      "RTY\n"
     ]
    }
   ],
   "source": [
    "print(emp1.get_name())\n",
    "emp1.set_name(\"RTY\")\n",
    "print(emp1.get_name())\n"
   ]
  },
  {
   "cell_type": "code",
   "execution_count": 31,
   "metadata": {},
   "outputs": [
    {
     "ename": "NameError",
     "evalue": "name 'epm1' is not defined",
     "output_type": "error",
     "traceback": [
      "\u001b[1;31m---------------------------------------------------------------------------\u001b[0m",
      "\u001b[1;31mNameError\u001b[0m                                 Traceback (most recent call last)",
      "\u001b[1;32m<ipython-input-31-eb352088a030>\u001b[0m in \u001b[0;36m<module>\u001b[1;34m()\u001b[0m\n\u001b[1;32m----> 1\u001b[1;33m \u001b[0mprint\u001b[0m\u001b[1;33m(\u001b[0m\u001b[0mepm1\u001b[0m\u001b[1;33m.\u001b[0m\u001b[0m__name\u001b[0m\u001b[1;33m)\u001b[0m\u001b[1;33m\u001b[0m\u001b[0m\n\u001b[0m",
      "\u001b[1;31mNameError\u001b[0m: name 'epm1' is not defined"
     ]
    }
   ],
   "source": [
    "print(epm1.__name)"
   ]
  },
  {
   "cell_type": "code",
   "execution_count": 35,
   "metadata": {},
   "outputs": [
    {
     "name": "stdout",
     "output_type": "stream",
     "text": [
      "101\n"
     ]
    }
   ],
   "source": [
    "print(emp1._Emp__emp_id)"
   ]
  },
  {
   "cell_type": "code",
   "execution_count": 46,
   "metadata": {},
   "outputs": [],
   "source": [
    "class Emp:\n",
    "    count = 0 \n",
    "    emps = []\n",
    "    def __init__(self,emp_id,name,email,sal):\n",
    "        self.__emp_id = emp_id\n",
    "        self.__name = name \n",
    "        self.emp_email = email\n",
    "        self.__sal = sal\n",
    "        Emp.count +=1\n",
    "        Emp.emps.append(self)\n",
    "      \n",
    "    def get_emp_id(self):\n",
    "        return self.__emp_id\n",
    "    \n",
    "    def get_name(self):\n",
    "        return self.__name\n",
    "    \n",
    "    def set_name(self,new_name):\n",
    "        self.__name = new_name\n",
    "        \n",
    "    def set_dept(self,dept_name):\n",
    "        self.__dept_name = dept_name\n",
    "    \n",
    "    def incr_sal(self,per = 30):\n",
    "        self.__sal = self.__sal + (self.__sal * per) /100\n",
    "        return self.__sal\n",
    "        \n",
    "emp1 = Emp(101,\"ABC\",\"abc@xyz.com\",45000)\n",
    "\n",
    "emp2 = Emp(102,\"PQR\",\"pqr@xyz.com\",55000)\n",
    "\n",
    "emp3 = Emp(103,\"QWE\",\"qwe@xyz.com\",65000)\n",
    "\n",
    "emp4 = Emp(104,\"RST\",\"rst@xyz.com\",55000)\n"
   ]
  },
  {
   "cell_type": "code",
   "execution_count": 41,
   "metadata": {},
   "outputs": [
    {
     "name": "stdout",
     "output_type": "stream",
     "text": [
      "4\n",
      "[<__main__.Emp object at 0x000001434B2156A0>, <__main__.Emp object at 0x000001434B215828>, <__main__.Emp object at 0x000001434B215710>, <__main__.Emp object at 0x000001434B2156D8>]\n",
      "[101, 102, 103, 104]\n"
     ]
    }
   ],
   "source": [
    "print(Emp.count)\n",
    "print(Emp.emps)\n",
    "ids = [emp.get_emp_id() for emp in Emp.emps]\n",
    "print(ids)"
   ]
  },
  {
   "cell_type": "code",
   "execution_count": 47,
   "metadata": {},
   "outputs": [
    {
     "name": "stdout",
     "output_type": "stream",
     "text": [
      "4\n",
      "{'_Emp__emp_id': 101, '_Emp__name': 'ABC', 'emp_email': 'abc@xyz.com', '_Emp__sal': 45000}\n"
     ]
    }
   ],
   "source": [
    "print(emp1.count)\n",
    "print(emp1.__dict__)"
   ]
  },
  {
   "cell_type": "code",
   "execution_count": 48,
   "metadata": {},
   "outputs": [
    {
     "name": "stdout",
     "output_type": "stream",
     "text": [
      "{'_Emp__emp_id': 101, '_Emp__name': 'ABC', 'emp_email': 'abc@xyz.com', '_Emp__sal': 45000, 'count': 100}\n",
      "4\n",
      "100\n"
     ]
    }
   ],
   "source": [
    "emp1.count = 100\n",
    "print(emp1.__dict__)\n",
    "print(Emp.count)\n",
    "print(emp1.count)"
   ]
  },
  {
   "cell_type": "code",
   "execution_count": null,
   "metadata": {},
   "outputs": [],
   "source": [
    "Student :\n",
    "    roll_no \n",
    "    name\n",
    "    marks = [80,80,70,45,62]\n",
    "    \n",
    "    calculate result  pass/fail  >40 \n",
    "\n",
    "    All passed studens and all failed students  id name \n",
    "    Top 3 students id name \n",
    "\n",
    "    \n",
    "    "
   ]
  },
  {
   "cell_type": "code",
   "execution_count": 65,
   "metadata": {},
   "outputs": [],
   "source": [
    "class Student:\n",
    "    studs = []    \n",
    "    \n",
    "    def __init__(self,roll_no,name,marks):\n",
    "        self.roll_no = roll_no\n",
    "        self.name =  name\n",
    "        self.marks = marks\n",
    "        Student.studs.append(self)\n",
    "        \n",
    "    def cal_result(self):\n",
    "        self.per = (sum(self.marks) / 5) \n",
    "        if self.per > 40:\n",
    "            self.result = \"Pass\"\n",
    "        else:\n",
    "            self.result = \"Fail\"\n",
    "    \n",
    "stud1 = Student(1,\"ABC\",[45,45,45,70,80])\n",
    "stud2 = Student(2,\"PQR\",[35,35,20,40,35])\n",
    "stud3 = Student(3,\"XYZ\",[45,45,45,70,80])\n",
    "stud4 = Student(4,\"SSS\",[80,80,70,70,80])\n",
    "stud5 = Student(5,\"TTT\",[45,45,45,70,80])"
   ]
  },
  {
   "cell_type": "code",
   "execution_count": 61,
   "metadata": {},
   "outputs": [
    {
     "name": "stdout",
     "output_type": "stream",
     "text": [
      "[<__main__.Student object at 0x000001434B212A20>, <__main__.Student object at 0x000001434B2129E8>, <__main__.Student object at 0x000001434B2129B0>, <__main__.Student object at 0x000001434B212A58>, <__main__.Student object at 0x000001434B212A90>]\n"
     ]
    }
   ],
   "source": [
    "print(Student.studs)"
   ]
  },
  {
   "cell_type": "code",
   "execution_count": 67,
   "metadata": {},
   "outputs": [],
   "source": [
    "for stud in Student.studs:\n",
    "    stud.cal_result()"
   ]
  },
  {
   "cell_type": "code",
   "execution_count": 68,
   "metadata": {},
   "outputs": [
    {
     "name": "stdout",
     "output_type": "stream",
     "text": [
      "1 ABC 57.0\n",
      "3 XYZ 57.0\n",
      "4 SSS 76.0\n",
      "5 TTT 57.0\n"
     ]
    }
   ],
   "source": [
    "for stud in Student.studs:\n",
    "\n",
    "    if stud.result == \"Pass\":\n",
    "        print(stud.roll_no,stud.name,stud.per)\n",
    "        "
   ]
  },
  {
   "cell_type": "code",
   "execution_count": 69,
   "metadata": {},
   "outputs": [
    {
     "name": "stdout",
     "output_type": "stream",
     "text": [
      "2 PQR 33.0\n"
     ]
    }
   ],
   "source": [
    "for stud in Student.studs:\n",
    "\n",
    "    if stud.result == \"Fail\":\n",
    "        print(stud.roll_no,stud.name,stud.per)"
   ]
  },
  {
   "cell_type": "code",
   "execution_count": 70,
   "metadata": {},
   "outputs": [
    {
     "ename": "TypeError",
     "evalue": "'<' not supported between instances of 'Student' and 'Student'",
     "output_type": "error",
     "traceback": [
      "\u001b[1;31m---------------------------------------------------------------------------\u001b[0m",
      "\u001b[1;31mTypeError\u001b[0m                                 Traceback (most recent call last)",
      "\u001b[1;32m<ipython-input-70-bac196fe6810>\u001b[0m in \u001b[0;36m<module>\u001b[1;34m()\u001b[0m\n\u001b[1;32m----> 1\u001b[1;33m \u001b[0mprint\u001b[0m\u001b[1;33m(\u001b[0m\u001b[0msorted\u001b[0m\u001b[1;33m(\u001b[0m\u001b[0mStudent\u001b[0m\u001b[1;33m.\u001b[0m\u001b[0mstuds\u001b[0m\u001b[1;33m)\u001b[0m\u001b[1;33m)\u001b[0m\u001b[1;33m\u001b[0m\u001b[0m\n\u001b[0m",
      "\u001b[1;31mTypeError\u001b[0m: '<' not supported between instances of 'Student' and 'Student'"
     ]
    }
   ],
   "source": []
  },
  {
   "cell_type": "code",
   "execution_count": null,
   "metadata": {},
   "outputs": [],
   "source": [
    "Tutorial \n",
    "    tut_id \n",
    "    course = obj \n",
    "    content = \n",
    "    author = \n",
    "Course \n",
    "    id\n",
    "    catagory     \n",
    "    \n",
    "All tutirals of counrse \"Python\"\n",
    "All tutorials of author \"ABC\"\n",
    "\n",
    "\n",
    "\n",
    "1 Course multiple tutorials "
   ]
  }
 ],
 "metadata": {
  "kernelspec": {
   "display_name": "Python 3",
   "language": "python",
   "name": "python3"
  },
  "language_info": {
   "codemirror_mode": {
    "name": "ipython",
    "version": 3
   },
   "file_extension": ".py",
   "mimetype": "text/x-python",
   "name": "python",
   "nbconvert_exporter": "python",
   "pygments_lexer": "ipython3",
   "version": "3.6.5"
  }
 },
 "nbformat": 4,
 "nbformat_minor": 2
}
